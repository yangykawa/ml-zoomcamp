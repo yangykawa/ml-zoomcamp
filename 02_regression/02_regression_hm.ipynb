{
 "cells": [
  {
   "cell_type": "code",
   "execution_count": 1,
   "id": "932d0506-8db0-48cf-8e21-4312a109abe5",
   "metadata": {},
   "outputs": [],
   "source": [
    "import pandas as pd\n",
    "import numpy as np\n",
    "from matplotlib import pyplot as plt\n",
    "import seaborn as sns"
   ]
  },
  {
   "cell_type": "code",
   "execution_count": 2,
   "id": "b3f5619f-b9f7-49fb-a4c5-4a70cdbdbe7d",
   "metadata": {},
   "outputs": [
    {
     "name": "stdout",
     "output_type": "stream",
     "text": [
      "--2024-10-07 22:40:44--  https://raw.githubusercontent.com/alexeygrigorev/datasets/master/laptops.csv\n",
      "Resolving raw.githubusercontent.com (raw.githubusercontent.com)... 2606:50c0:8000::154, 2606:50c0:8001::154, 2606:50c0:8002::154, ...\n",
      "Connecting to raw.githubusercontent.com (raw.githubusercontent.com)|2606:50c0:8000::154|:443... connected.\n",
      "HTTP request sent, awaiting response... 200 OK\n",
      "Length: 298573 (292K) [text/plain]\n",
      "Saving to: ‘laptops.csv.1’\n",
      "\n",
      "laptops.csv.1       100%[===================>] 291.58K  --.-KB/s    in 0.04s   \n",
      "\n",
      "2024-10-07 22:40:45 (7.57 MB/s) - ‘laptops.csv.1’ saved [298573/298573]\n",
      "\n"
     ]
    }
   ],
   "source": [
    "!wget https://raw.githubusercontent.com/alexeygrigorev/datasets/master/laptops.csv"
   ]
  },
  {
   "cell_type": "code",
   "execution_count": 3,
   "id": "83955de8-ed6a-4df0-a7e5-48de71549efb",
   "metadata": {},
   "outputs": [],
   "source": [
    "df = pd.read_csv('laptops.csv')"
   ]
  },
  {
   "cell_type": "code",
   "execution_count": 4,
   "id": "57ae910e-4479-4cbb-874a-56d35abe82b9",
   "metadata": {},
   "outputs": [],
   "source": [
    "df.columns = df.columns.str.lower().str.replace(' ', '_')"
   ]
  },
  {
   "cell_type": "markdown",
   "id": "d23452ba-8d6b-4424-a47f-e3d4a0a54fb3",
   "metadata": {},
   "source": [
    "Next, use only the following columns:\n",
    "\n",
    "* `'ram'`,\n",
    "* `'storage'`,\n",
    "* `'screen'`,\n",
    "* `'final_price'`"
   ]
  },
  {
   "cell_type": "code",
   "execution_count": 5,
   "id": "b87f10ad-f73a-4077-9e9e-5da3cc59dad9",
   "metadata": {},
   "outputs": [],
   "source": [
    "df_reg = df[['ram','storage', 'screen', 'final_price']]"
   ]
  },
  {
   "cell_type": "code",
   "execution_count": 6,
   "id": "7a9551df-a15f-4f91-b087-2f48791c47b0",
   "metadata": {},
   "outputs": [
    {
     "data": {
      "text/html": [
       "<div>\n",
       "<style scoped>\n",
       "    .dataframe tbody tr th:only-of-type {\n",
       "        vertical-align: middle;\n",
       "    }\n",
       "\n",
       "    .dataframe tbody tr th {\n",
       "        vertical-align: top;\n",
       "    }\n",
       "\n",
       "    .dataframe thead th {\n",
       "        text-align: right;\n",
       "    }\n",
       "</style>\n",
       "<table border=\"1\" class=\"dataframe\">\n",
       "  <thead>\n",
       "    <tr style=\"text-align: right;\">\n",
       "      <th></th>\n",
       "      <th>ram</th>\n",
       "      <th>storage</th>\n",
       "      <th>screen</th>\n",
       "      <th>final_price</th>\n",
       "    </tr>\n",
       "  </thead>\n",
       "  <tbody>\n",
       "    <tr>\n",
       "      <th>0</th>\n",
       "      <td>8</td>\n",
       "      <td>512</td>\n",
       "      <td>15.6</td>\n",
       "      <td>1009.00</td>\n",
       "    </tr>\n",
       "    <tr>\n",
       "      <th>1</th>\n",
       "      <td>8</td>\n",
       "      <td>256</td>\n",
       "      <td>15.6</td>\n",
       "      <td>299.00</td>\n",
       "    </tr>\n",
       "    <tr>\n",
       "      <th>2</th>\n",
       "      <td>8</td>\n",
       "      <td>256</td>\n",
       "      <td>15.6</td>\n",
       "      <td>789.00</td>\n",
       "    </tr>\n",
       "    <tr>\n",
       "      <th>3</th>\n",
       "      <td>16</td>\n",
       "      <td>1000</td>\n",
       "      <td>15.6</td>\n",
       "      <td>1199.00</td>\n",
       "    </tr>\n",
       "    <tr>\n",
       "      <th>4</th>\n",
       "      <td>16</td>\n",
       "      <td>512</td>\n",
       "      <td>15.6</td>\n",
       "      <td>669.01</td>\n",
       "    </tr>\n",
       "  </tbody>\n",
       "</table>\n",
       "</div>"
      ],
      "text/plain": [
       "   ram  storage  screen  final_price\n",
       "0    8      512    15.6      1009.00\n",
       "1    8      256    15.6       299.00\n",
       "2    8      256    15.6       789.00\n",
       "3   16     1000    15.6      1199.00\n",
       "4   16      512    15.6       669.01"
      ]
     },
     "execution_count": 6,
     "metadata": {},
     "output_type": "execute_result"
    }
   ],
   "source": [
    "df_reg.head()"
   ]
  },
  {
   "cell_type": "markdown",
   "id": "92cbfbf2-e51f-4542-9cf0-0d80b5a9078f",
   "metadata": {},
   "source": [
    "### EDA"
   ]
  },
  {
   "cell_type": "code",
   "execution_count": 7,
   "id": "9890c7ba-39f6-4406-92e7-853d3cd442dc",
   "metadata": {},
   "outputs": [
    {
     "data": {
      "text/plain": [
       "<Axes: xlabel='final_price', ylabel='Count'>"
      ]
     },
     "execution_count": 7,
     "metadata": {},
     "output_type": "execute_result"
    },
    {
     "data": {
      "image/png": "[encoded data removed]",
      "text/plain": [
       "<Figure size 640x480 with 1 Axes>"
      ]
     },
     "metadata": {},
     "output_type": "display_data"
    }
   ],
   "source": [
    "sns.histplot(df_reg.final_price, bins = 50)"
   ]
  },
  {
   "cell_type": "markdown",
   "id": "5ab27244-e884-4ba4-8b8e-c99bcd99ffc0",
   "metadata": {},
   "source": [
    "#### yes, the plot has long tail."
   ]
  },
  {
   "cell_type": "code",
   "execution_count": 8,
   "id": "1b3e6b05-256a-4e4e-8d1f-bac7003fecde",
   "metadata": {},
   "outputs": [
    {
     "data": {
      "text/plain": [
       "ram            0\n",
       "storage        0\n",
       "screen         4\n",
       "final_price    0\n",
       "dtype: int64"
      ]
     },
     "execution_count": 8,
     "metadata": {},
     "output_type": "execute_result"
    }
   ],
   "source": [
    "df_reg.isnull().sum()"
   ]
  },
  {
   "cell_type": "code",
   "execution_count": 9,
   "id": "1d7da5d6-74a0-4f31-8e4a-cf25d3290a16",
   "metadata": {},
   "outputs": [
    {
     "data": {
      "text/plain": [
       "16.0"
      ]
     },
     "execution_count": 9,
     "metadata": {},
     "output_type": "execute_result"
    }
   ],
   "source": [
    "df_reg['ram'].median()"
   ]
  },
  {
   "cell_type": "markdown",
   "id": "758774e5-ffe0-4a32-abb3-ca5a2873e719",
   "metadata": {},
   "source": [
    "### Question 1\n",
    "\n",
    "There's one column with missing values. What is it?\n",
    "\n",
    "- `'ram'`\n",
    "- `'storage'`\n",
    "- **`'screen'`**\n",
    "- `'final_price'`\n",
    "\n",
    "  \n",
    "### Question 2\n",
    "\n",
    "What's the median (50% percentile) for variable `'ram'`?\n",
    "\n",
    "- 8\n",
    "- **16**\n",
    "- 24\n",
    "- 32"
   ]
  },
  {
   "cell_type": "markdown",
   "id": "02e3736f-5ee4-47f2-b893-9952798a51eb",
   "metadata": {},
   "source": [
    "### Prepare and split the dataset\n",
    "\n",
    "* Shuffle the dataset (the filtered one you created above), use seed `42`.\n",
    "* Split your data in train/val/test sets, with 60%/20%/20% distribution.\n",
    "\n",
    "Use the same code as in the lectures"
   ]
  },
  {
   "cell_type": "code",
   "execution_count": 10,
   "id": "886199e1-c1d8-4c65-ae16-94aa08a76900",
   "metadata": {},
   "outputs": [],
   "source": [
    "def split_data(df, seed, val_per, test_per):\n",
    "    df = df.copy()\n",
    "    np.random.seed(seed)\n",
    "    n = len(df)\n",
    "\n",
    "    n_val = int(val_per *n)\n",
    "    n_test = int(test_per *n)\n",
    "    n_train = n- n_val- n_test\n",
    "\n",
    "    idx = np.arange(n)\n",
    "    np.random.shuffle(idx)\n",
    "    df_shuffled= df.iloc[idx]\n",
    "\n",
    "    df_train = df_shuffled[:n_train]\n",
    "    df_val = df_shuffled[n_train: n_train+ n_val]\n",
    "    df_test = df_shuffled[n_train+ n_val:]\n",
    "\n",
    "    df_train = df_train.reset_index(drop=True)\n",
    "    df_val = df_val.reset_index(drop=True)\n",
    "    df_test = df_test.reset_index(drop=True)\n",
    "\n",
    "    y_train = np.log1p(df_train.final_price.values)\n",
    "    y_val = np.log1p(df_val.final_price.values)\n",
    "    y_test = np.log1p(df_test.final_price.values)\n",
    "\n",
    "    del df_train['final_price']\n",
    "    del df_val['final_price']\n",
    "    del df_test['final_price']\n",
    "    return df_train, df_val, df_test, y_train, y_val, y_test\n",
    "\n",
    "df_reg_train, df_reg_val, df_reg_test, y_reg_train, y_reg_val, y_reg_test = split_data(df_reg, 42, 0.2, 0.2)\n",
    "\n"
   ]
  },
  {
   "cell_type": "markdown",
   "id": "53ad6ac0-4a96-41ea-84d0-fef8528595b3",
   "metadata": {},
   "source": [
    "### Question 3\n",
    "\n",
    "* We need to deal with missing values for the column from Q1.\n",
    "* We have two options: fill it with 0 or with the mean of this variable.\n",
    "* Try both options. For each, train a linear regression model without regularization using the code from the lessons.\n",
    "* For computing the mean, use the training only!\n",
    "* Use the validation dataset to evaluate the models and compare the RMSE of each option.\n",
    "* Round the RMSE scores to 2 decimal digits using `round(score, 2)`\n",
    "* Which option gives better RMSE?\n",
    "\n",
    "Options:\n",
    "\n",
    "- With 0\n",
    "- With mean\n",
    "- **Both are equally good**"
   ]
  },
  {
   "cell_type": "code",
   "execution_count": 11,
   "id": "370cbf5e-1332-4847-ae55-fce8a2438b57",
   "metadata": {},
   "outputs": [
    {
     "data": {
      "image/png": "[encoded data removed]",
      "text/plain": [
       "<Figure size 1500x400 with 2 Axes>"
      ]
     },
     "metadata": {},
     "output_type": "display_data"
    }
   ],
   "source": [
    "def train_linear_regression(X, y):\n",
    "    ones = np.ones(X.shape[0])\n",
    "    X = np.column_stack([ones, X])\n",
    "\n",
    "    XTX = X.T.dot(X)\n",
    "    XTX_inv = np.linalg.inv(XTX)\n",
    "    w = XTX_inv.dot(X.T).dot(y)\n",
    "\n",
    "    return w[0], w[1:]\n",
    "\n",
    "def prepare_X_1(df):\n",
    "    df = df.copy()\n",
    "    df = df.fillna(0)\n",
    "    X = df.values\n",
    "    return X\n",
    "\n",
    "def prepare_X_2(df):\n",
    "    df = df.copy()\n",
    "    mean_train_df = df_reg_train['screen'].mean()\n",
    "    df = df.fillna(mean_train_df)\n",
    "    X = df.values\n",
    "    return X\n",
    "\n",
    "def RMSE(y,y_pred):\n",
    "    SE = (y-y_pred)**2\n",
    "    MSE = SE.mean()\n",
    "    return np.sqrt(MSE)\n",
    "    \n",
    "### fill null with 0\n",
    "X_train_1 = prepare_X_1(df_reg_train)\n",
    "w_0, w = train_linear_regression(X_train_1, y_reg_train)\n",
    "\n",
    "X_val_1 = prepare_X_1(df_reg_val)\n",
    "y_pred_1 = w_0 + X_val_1.dot(w)\n",
    "\n",
    "rmse_1 = round(RMSE(y_reg_val, y_pred_1),2)\n",
    "\n",
    "### fill null with mean\n",
    "X_train_2 = prepare_X_2(df_reg_train)\n",
    "w_0, w = train_linear_regression(X_train_2, y_reg_train)\n",
    "\n",
    "X_val_2 = prepare_X_2(df_reg_val)\n",
    "y_pred_2 = w_0 + X_val_2.dot(w)\n",
    "\n",
    "rmse_2 = round(RMSE(y_reg_val, y_pred_2),2)\n",
    "\n",
    "plt.figure(figsize=(15, 4))\n",
    "\n",
    "plt.subplot(1, 2, 1)\n",
    "sns.histplot(y_reg_val, label='target', color='red', alpha=0.6, bins=40)\n",
    "sns.histplot(y_pred_1, label='prediction', color='blue', alpha=0.8, bins=40)\n",
    "plt.legend()\n",
    "plt.ylabel('Frequency')\n",
    "plt.xlabel('Log(Price + 1)')\n",
    "plt.title(f'Predictions vs actual distribution after fill null with 0, rmse of validation data is {rmse_1}')\n",
    "\n",
    "plt.subplot(1, 2, 2)\n",
    "sns.histplot(y_reg_val, label='target', color='red', alpha=0.6, bins=40)\n",
    "sns.histplot(y_pred_2, label='prediction', color='blue', alpha=0.8, bins=40)\n",
    "plt.legend()\n",
    "plt.ylabel('Frequency')\n",
    "plt.xlabel('Log(Price + 1)')\n",
    "plt.title(f'Predictions vs actual distribution after fill null with mean, rmse of validation data is {rmse_2}')\n",
    "\n",
    "plt.tight_layout() \n",
    "plt.show()"
   ]
  },
  {
   "cell_type": "markdown",
   "id": "1664d602-0717-4a7a-a219-9d1bd4ba4102",
   "metadata": {},
   "source": [
    "### Question 4\n",
    "\n",
    "* Now let's train a regularized linear regression.\n",
    "* For this question, fill the NAs with 0. \n",
    "* Try different values of `r` from this list: `[0, 0.01, 0.1, 1, 5, 10, 100]`.\n",
    "* Use RMSE to evaluate the model on the validation dataset.\n",
    "* Round the RMSE scores to 2 decimal digits.\n",
    "* Which `r` gives the best RMSE?\n",
    "\n",
    "If there are multiple options, select the smallest `r`.\n",
    "\n",
    "Options:\n",
    "\n",
    "- **0**\n",
    "- 0.01\n",
    "- 1\n",
    "- 10\n",
    "- 100"
   ]
  },
  {
   "cell_type": "code",
   "execution_count": 12,
   "id": "443e26b0-b1c6-4c49-bb3c-2b741e4764db",
   "metadata": {},
   "outputs": [
    {
     "name": "stdout",
     "output_type": "stream",
     "text": [
      "When r is 0, w_0 is 6.727163706112456, RMSE is 0.43\n",
      "When r is 0.01, w_0 is 6.721004333260311, RMSE is 0.43\n",
      "When r is 1, w_0 is 6.162616499461121, RMSE is 0.43\n",
      "When r is 10, w_0 is 3.5167547207936254, RMSE is 0.51\n",
      "When r is 100, w_0 is 0.6849263362660534, RMSE is 0.67\n"
     ]
    }
   ],
   "source": [
    "def train_linear_regression_reg(X, y, r):\n",
    "    ones = np.ones(X.shape[0])\n",
    "    X = np.column_stack([ones, X])\n",
    "\n",
    "    XTX = X.T.dot(X)\n",
    "    XTX = XTX + r * np.eye(XTX.shape[0])\n",
    "\n",
    "    XTX_inv = np.linalg.inv(XTX)\n",
    "    w_full = XTX_inv.dot(X.T).dot(y)\n",
    "    \n",
    "    return w_full[0], w_full[1:]\n",
    "\n",
    "X_train = prepare_X_1(df_reg_train)\n",
    "X_val = prepare_X_1(df_reg_val)\n",
    "for r in [0, 0.01, 1, 10,100]:\n",
    "    w_full_0, w_full = train_linear_regression_reg(X_train, y_reg_train,r)\n",
    "    y_val_pred = w_full_0 + X_val.dot(w_full)\n",
    "    rmse_val = np.round(RMSE(y_val_pred,y_reg_val),2)\n",
    "    print(f\"When r is {r}, w_0 is {w_full_0}, RMSE is {rmse_val}\")"
   ]
  },
  {
   "cell_type": "markdown",
   "id": "d9d5e46d-c34c-4ac9-a053-efc05787991a",
   "metadata": {},
   "source": [
    "### Question 5 \n",
    "\n",
    "* We used seed 42 for splitting the data. Let's find out how selecting the seed influences our score.\n",
    "* Try different seed values: `[0, 1, 2, 3, 4, 5, 6, 7, 8, 9]`.\n",
    "* For each seed, do the train/validation/test split with 60%/20%/20% distribution.\n",
    "* Fill the missing values with 0 and train a model without regularization.\n",
    "* For each seed, evaluate the model on the validation dataset and collect the RMSE scores. \n",
    "* What's the standard deviation of all the scores? To compute the standard deviation, use `np.std`.\n",
    "* Round the result to 3 decimal digits (`round(std, 3)`)\n",
    "\n",
    "What's the value of std?\n",
    "\n",
    "- 19.176\n",
    "- **29.176**\n",
    "- 39.176\n",
    "- 49.176\n",
    "\n",
    "> Note: Standard deviation shows how different the values are.\n",
    "> If it's low, then all values are approximately the same.\n",
    "> If it's high, the values are different. \n",
    "> If standard deviation of scores is low, then our model is *stable*.\n",
    "\n"
   ]
  },
  {
   "cell_type": "code",
   "execution_count": 15,
   "id": "71b067d8-e547-4a79-b8f2-914c52613476",
   "metadata": {},
   "outputs": [
    {
     "name": "stdout",
     "output_type": "stream",
     "text": [
      "When seed is 0, w_0 is 547.5696230186684, RMSE is 565.45\n",
      "When seed is 1, w_0 is 594.41974279991, RMSE is 636.8\n",
      "When seed is 2, w_0 is 649.4685454769078, RMSE is 588.96\n",
      "When seed is 3, w_0 is 571.945904011273, RMSE is 597.81\n",
      "When seed is 4, w_0 is 629.3882030645109, RMSE is 571.96\n",
      "When seed is 5, w_0 is 580.7647373330074, RMSE is 573.24\n",
      "When seed is 6, w_0 is 783.7683689905917, RMSE is 647.34\n",
      "When seed is 7, w_0 is 376.4358600624204, RMSE is 550.44\n",
      "When seed is 8, w_0 is 572.8852361198617, RMSE is 587.33\n",
      "When seed is 9, w_0 is 663.3792792607826, RMSE is 576.1\n",
      "the value of std is 29.176\n"
     ]
    }
   ],
   "source": [
    "def split_data_no_regularization(df, seed, val_per, test_per):\n",
    "    df = df.copy()\n",
    "    np.random.seed(seed)\n",
    "    n = len(df)\n",
    "\n",
    "    n_val = int(val_per *n)\n",
    "    n_test = int(test_per *n)\n",
    "    n_train = n- n_val- n_test\n",
    "\n",
    "    idx = np.arange(n)\n",
    "    np.random.shuffle(idx)\n",
    "    df_shuffled= df.iloc[idx]\n",
    "\n",
    "    df_train = df_shuffled[:n_train]\n",
    "    df_val = df_shuffled[n_train: n_train+ n_val]\n",
    "    df_test = df_shuffled[n_train+ n_val:]\n",
    "\n",
    "    df_train = df_train.reset_index(drop=True)\n",
    "    df_val = df_val.reset_index(drop=True)\n",
    "    df_test = df_test.reset_index(drop=True)\n",
    "\n",
    "    y_train = df_train.final_price.values\n",
    "    y_val = df_val.final_price.values\n",
    "    y_test = df_test.final_price.values\n",
    "\n",
    "    del df_train['final_price']\n",
    "    del df_val['final_price']\n",
    "    del df_test['final_price']\n",
    "    return df_train, df_val, df_test, y_train, y_val, y_test\n",
    "\n",
    "scores = []\n",
    "for seed in range(0,10):\n",
    "    df_train, df_val, df_test, y_train, y_val, y_test = split_data_no_regularization(df_reg, seed, 0.2, 0.2)\n",
    "    X_train = prepare_X_1(df_train)\n",
    "    w_0, w = train_linear_regression(X_train, y_train)\n",
    "    X_val = prepare_X_1(df_val)\n",
    "    y_val_pred = w_0 + X_val.dot(w)\n",
    "    rmse_val = RMSE(y_val_pred,y_val)\n",
    "    print(f\"When seed is {seed}, w_0 is {w_0}, RMSE is {np.round(rmse_val,2)}\")\n",
    "    scores.append(rmse_val)\n",
    "std_value = np.round(np.std(scores),3)\n",
    "print(f\"the value of std is {std_value}\")"
   ]
  },
  {
   "cell_type": "markdown",
   "id": "43c64a95-7ef8-4b61-8d1a-259965b03229",
   "metadata": {},
   "source": [
    "\n",
    "### Question 6\n",
    "\n",
    "* Split the dataset like previously, use seed 9.\n",
    "* Combine train and validation datasets.\n",
    "* Fill the missing values with 0 and train a model with `r=0.001`. \n",
    "* What's the RMSE on the test dataset?\n",
    "\n",
    "Options:\n",
    "\n",
    "- 598.60\n",
    "- **608.60**\n",
    "- 618.60\n",
    "- 628.60"
   ]
  },
  {
   "cell_type": "code",
   "execution_count": 16,
   "id": "7964605f-2392-479a-ac91-0e5a1330d723",
   "metadata": {},
   "outputs": [
    {
     "name": "stdout",
     "output_type": "stream",
     "text": [
      "RMSE is 608.61\n"
     ]
    }
   ],
   "source": [
    "df_train, df_val, df_test, y_train, y_val, y_test = split_data_no_regularization(df_reg, 9 , 0.2, 0.2)\n",
    "df_com = pd.concat([df_train, df_val]).reset_index(drop=True)\n",
    "y_com = np.concatenate([y_train, y_val])\n",
    "X_com = prepare_X_1(df_com)\n",
    "X_test = prepare_X_1(df_test)\n",
    "w_full_0, w_full = train_linear_regression_reg(X_com, y_com, r = 0.001)\n",
    "y_test_pred = w_full_0 + X_test.dot(w_full)\n",
    "rmse_test = RMSE(y_test_pred,y_test)\n",
    "print(f\"RMSE is {np.round(rmse_test,2)}\")"
   ]
  }
 ],
 "metadata": {
  "kernelspec": {
   "display_name": "Python 3 (ipykernel)",
   "language": "python",
   "name": "python3"
  },
  "language_info": {
   "codemirror_mode": {
    "name": "ipython",
    "version": 3
   },
   "file_extension": ".py",
   "mimetype": "text/x-python",
   "name": "python",
   "nbconvert_exporter": "python",
   "pygments_lexer": "ipython3",
   "version": "3.11.7"
  }
 },
 "nbformat": 4,
 "nbformat_minor": 5
}
