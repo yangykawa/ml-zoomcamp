{
 "cells": [
  {
   "cell_type": "markdown",
   "id": "d2b0a737-ddf2-4bb7-84c8-fd7c3a488dab",
   "metadata": {},
   "source": [
    "## Homework\n",
    "\n",
    "> Note: sometimes your answer doesn't match one of the options exactly. \n",
    "> That's fine. \n",
    "> Select the option that's closest to your solution."
   ]
  },
  {
   "cell_type": "code",
   "execution_count": 1,
   "id": "2108d596-d3b6-42d8-82c4-2c3bb90d23a6",
   "metadata": {},
   "outputs": [],
   "source": [
    "import pandas as pd\n",
    "import numpy as np\n",
    "from matplotlib import pyplot as plt\n",
    "import seaborn as sns"
   ]
  },
  {
   "cell_type": "markdown",
   "id": "1bc9728e-f917-447a-969f-56f37983172a",
   "metadata": {},
   "source": [
    "### Dataset\n",
    "\n",
    "In this homework, we will use the Bank Marketing dataset. Download it from [here](https://archive.ics.uci.edu/static/public/222/bank+marketing.zip).\n",
    "\n",
    "Or you can do it with `wget`:\n",
    "\n",
    "```bash\n",
    "wget https://archive.ics.uci.edu/static/public/222/bank+marketing.zip\n",
    "```\n",
    "\n",
    "We need to take `bank/bank-full.csv` file from the downloaded zip-file. Please use semicolon as a separator in the `read_csv` function.\n",
    "\n",
    "In this dataset our desired target for classification task will be `y` variable - has the client subscribed a term deposit or not. \n"
   ]
  },
  {
   "cell_type": "code",
   "execution_count": 46,
   "id": "f9992016-422d-488e-98d5-d3c6f3b6cb93",
   "metadata": {},
   "outputs": [
    {
     "name": "stdout",
     "output_type": "stream",
     "text": [
      "--2024-10-17 13:41:28--  https://archive.ics.uci.edu/static/public/222/bank+marketing.zip\n",
      "Resolving archive.ics.uci.edu (archive.ics.uci.edu)... 128.195.10.252\n",
      "Connecting to archive.ics.uci.edu (archive.ics.uci.edu)|128.195.10.252|:443... connected.\n",
      "HTTP request sent, awaiting response... 200 OK\n",
      "Length: unspecified\n",
      "Saving to: ‘bank+marketing.zip.1’\n",
      "\n",
      "bank+marketing.zip.     [   <=>              ] 999.85K  1.83MB/s    in 0.5s    \n",
      "\n",
      "2024-10-17 13:41:29 (1.83 MB/s) - ‘bank+marketing.zip.1’ saved [1023843]\n",
      "\n"
     ]
    }
   ],
   "source": [
    "!wget https://archive.ics.uci.edu/static/public/222/bank+marketing.zip"
   ]
  },
  {
   "cell_type": "code",
   "execution_count": 2,
   "id": "83955de8-ed6a-4df0-a7e5-48de71549efb",
   "metadata": {},
   "outputs": [],
   "source": [
    "df = pd.read_csv('bank-full.csv', sep = ';')"
   ]
  },
  {
   "cell_type": "markdown",
   "id": "4e0590a7-04b6-485e-b6e1-144bef9a7703",
   "metadata": {},
   "source": [
    "### Features\n",
    "\n",
    "For the rest of the homework, you'll need to use only these columns:\n",
    "\n",
    "* `age`,\n",
    "* `job`,\n",
    "* `marital`,\n",
    "* `education`,\n",
    "* `balance`,\n",
    "* `housing`,\n",
    "* `contact`,\n",
    "* `day`,\n",
    "* `month`,\n",
    "* `duration`,\n",
    "* `campaign`,\n",
    "* `pdays`,\n",
    "* `previous`,\n",
    "* `poutcome`,\n",
    "* `y`\n",
    "\n",
    "### Data preparation\n",
    "\n",
    "* Select only the features from above.\n",
    "* Check if the missing values are presented in the features.\n"
   ]
  },
  {
   "cell_type": "code",
   "execution_count": 3,
   "id": "59f7d228-ffbd-4a83-9c26-ce40f2d6d975",
   "metadata": {},
   "outputs": [],
   "source": [
    "features  = ['age', 'job', 'marital', 'education', 'balance','housing', 'contact', 'day', 'month', 'duration', \n",
    "             'campaign', 'pdays', 'previous', 'poutcome', 'y']"
   ]
  },
  {
   "cell_type": "code",
   "execution_count": 4,
   "id": "c2d9a2b5-9596-413b-bd3b-85db28a1eae0",
   "metadata": {},
   "outputs": [],
   "source": [
    "df = df[features]\n",
    "df.columns = df.columns.str.lower().str.replace(' ', '_')"
   ]
  },
  {
   "cell_type": "code",
   "execution_count": 5,
   "id": "c7959073-dc0e-427b-99d4-36b1c15a9e74",
   "metadata": {},
   "outputs": [
    {
     "data": {
      "text/plain": [
       "age          0\n",
       "job          0\n",
       "marital      0\n",
       "education    0\n",
       "balance      0\n",
       "housing      0\n",
       "contact      0\n",
       "day          0\n",
       "month        0\n",
       "duration     0\n",
       "campaign     0\n",
       "pdays        0\n",
       "previous     0\n",
       "poutcome     0\n",
       "y            0\n",
       "dtype: int64"
      ]
     },
     "execution_count": 5,
     "metadata": {},
     "output_type": "execute_result"
    }
   ],
   "source": [
    "df.isnull().sum()"
   ]
  },
  {
   "cell_type": "markdown",
   "id": "a31a508c-f159-475e-9b85-3656c3fa2987",
   "metadata": {},
   "source": [
    "### Question 1\n",
    "\n",
    "What is the most frequent observation (mode) for the column `education`?\n",
    "\n",
    "- `unknown`\n",
    "- `primary`\n",
    "- **`secondary`**\n",
    "- `tertiary`"
   ]
  },
  {
   "cell_type": "code",
   "execution_count": 6,
   "id": "ddf7a944-1339-417f-9fea-ca908cde00fe",
   "metadata": {},
   "outputs": [
    {
     "data": {
      "text/plain": [
       "0    secondary\n",
       "Name: education, dtype: object"
      ]
     },
     "execution_count": 6,
     "metadata": {},
     "output_type": "execute_result"
    }
   ],
   "source": [
    "df['education'].mode()"
   ]
  },
  {
   "cell_type": "markdown",
   "id": "9b647e5c-1bb9-498f-8846-47750f8393d5",
   "metadata": {},
   "source": [
    "### Question 2\n",
    "\n",
    "Create the [correlation matrix](https://www.google.com/search?q=correlation+matrix) for the numerical features of your dataset. \n",
    "In a correlation matrix, you compute the correlation coefficient between every pair of features.\n",
    "\n",
    "What are the two features that have the biggest correlation?\n",
    "\n",
    "- `age` and `balance`  0.097783\n",
    "- `day` and `campaign` 0.162490\n",
    "- `day` and `pdays`   -0.093044\n",
    "- **`pdays` and `previous`** 0.454820"
   ]
  },
  {
   "cell_type": "code",
   "execution_count": 7,
   "id": "0c286443-fc67-41a7-b138-2573bb8c17eb",
   "metadata": {},
   "outputs": [
    {
     "data": {
      "text/plain": [
       "age           int64\n",
       "job          object\n",
       "marital      object\n",
       "education    object\n",
       "balance       int64\n",
       "housing      object\n",
       "contact      object\n",
       "day           int64\n",
       "month        object\n",
       "duration      int64\n",
       "campaign      int64\n",
       "pdays         int64\n",
       "previous      int64\n",
       "poutcome     object\n",
       "y            object\n",
       "dtype: object"
      ]
     },
     "execution_count": 7,
     "metadata": {},
     "output_type": "execute_result"
    }
   ],
   "source": [
    "df.dtypes"
   ]
  },
  {
   "cell_type": "code",
   "execution_count": 8,
   "id": "b71b4049-863d-48a2-8e6a-d332fa8865fb",
   "metadata": {},
   "outputs": [
    {
     "data": {
      "image/png": "[encoded data removed]",
      "text/plain": [
       "<Figure size 1000x400 with 2 Axes>"
      ]
     },
     "metadata": {},
     "output_type": "display_data"
    }
   ],
   "source": [
    "numerical_features = df.select_dtypes(include = 'int64').columns.tolist()\n",
    "\n",
    "correlation_matrix = df[numerical_features].corr()\n",
    "plt.figure(figsize = (10,4))\n",
    "corr = sns.heatmap(correlation_matrix, annot = True, fmt = '.6f', cmap = 'coolwarm', square = False, cbar_kws = {\"shrink\": .8})\n",
    "plt.show()"
   ]
  },
  {
   "cell_type": "markdown",
   "id": "99cfb646-ccbc-4db4-8b07-5c5df442bfa3",
   "metadata": {},
   "source": [
    "### Target encoding\n",
    "\n",
    "* Now we want to encode the `y` variable.\n",
    "* Let's replace the values `yes`/`no` with `1`/`0`.\n",
    "\n",
    "### Split the data\n",
    "\n",
    "* Split your data in train/val/test sets with 60%/20%/20% distribution.\n",
    "* Use Scikit-Learn for that (the `train_test_split` function) and set the seed to `42`.\n",
    "* Make sure that the target value `y` is not in your dataframe.\n"
   ]
  },
  {
   "cell_type": "code",
   "execution_count": 9,
   "id": "152e2acd-a164-42da-9c33-35277f574766",
   "metadata": {},
   "outputs": [],
   "source": [
    "df['churn'] = (df.y == 'yes').astype(int)\n",
    "df = df.drop('y', axis=1)"
   ]
  },
  {
   "cell_type": "code",
   "execution_count": 10,
   "id": "2b025a53-6b7f-41e7-89d4-314ca0a8f1f3",
   "metadata": {},
   "outputs": [
    {
     "data": {
      "text/html": [
       "<div>\n",
       "<style scoped>\n",
       "    .dataframe tbody tr th:only-of-type {\n",
       "        vertical-align: middle;\n",
       "    }\n",
       "\n",
       "    .dataframe tbody tr th {\n",
       "        vertical-align: top;\n",
       "    }\n",
       "\n",
       "    .dataframe thead th {\n",
       "        text-align: right;\n",
       "    }\n",
       "</style>\n",
       "<table border=\"1\" class=\"dataframe\">\n",
       "  <thead>\n",
       "    <tr style=\"text-align: right;\">\n",
       "      <th></th>\n",
       "      <th>age</th>\n",
       "      <th>job</th>\n",
       "      <th>marital</th>\n",
       "      <th>education</th>\n",
       "      <th>balance</th>\n",
       "      <th>housing</th>\n",
       "      <th>contact</th>\n",
       "      <th>day</th>\n",
       "      <th>month</th>\n",
       "      <th>duration</th>\n",
       "      <th>campaign</th>\n",
       "      <th>pdays</th>\n",
       "      <th>previous</th>\n",
       "      <th>poutcome</th>\n",
       "      <th>churn</th>\n",
       "    </tr>\n",
       "  </thead>\n",
       "  <tbody>\n",
       "    <tr>\n",
       "      <th>0</th>\n",
       "      <td>58</td>\n",
       "      <td>management</td>\n",
       "      <td>married</td>\n",
       "      <td>tertiary</td>\n",
       "      <td>2143</td>\n",
       "      <td>yes</td>\n",
       "      <td>unknown</td>\n",
       "      <td>5</td>\n",
       "      <td>may</td>\n",
       "      <td>261</td>\n",
       "      <td>1</td>\n",
       "      <td>-1</td>\n",
       "      <td>0</td>\n",
       "      <td>unknown</td>\n",
       "      <td>0</td>\n",
       "    </tr>\n",
       "    <tr>\n",
       "      <th>1</th>\n",
       "      <td>44</td>\n",
       "      <td>technician</td>\n",
       "      <td>single</td>\n",
       "      <td>secondary</td>\n",
       "      <td>29</td>\n",
       "      <td>yes</td>\n",
       "      <td>unknown</td>\n",
       "      <td>5</td>\n",
       "      <td>may</td>\n",
       "      <td>151</td>\n",
       "      <td>1</td>\n",
       "      <td>-1</td>\n",
       "      <td>0</td>\n",
       "      <td>unknown</td>\n",
       "      <td>0</td>\n",
       "    </tr>\n",
       "    <tr>\n",
       "      <th>2</th>\n",
       "      <td>33</td>\n",
       "      <td>entrepreneur</td>\n",
       "      <td>married</td>\n",
       "      <td>secondary</td>\n",
       "      <td>2</td>\n",
       "      <td>yes</td>\n",
       "      <td>unknown</td>\n",
       "      <td>5</td>\n",
       "      <td>may</td>\n",
       "      <td>76</td>\n",
       "      <td>1</td>\n",
       "      <td>-1</td>\n",
       "      <td>0</td>\n",
       "      <td>unknown</td>\n",
       "      <td>0</td>\n",
       "    </tr>\n",
       "    <tr>\n",
       "      <th>3</th>\n",
       "      <td>47</td>\n",
       "      <td>blue-collar</td>\n",
       "      <td>married</td>\n",
       "      <td>unknown</td>\n",
       "      <td>1506</td>\n",
       "      <td>yes</td>\n",
       "      <td>unknown</td>\n",
       "      <td>5</td>\n",
       "      <td>may</td>\n",
       "      <td>92</td>\n",
       "      <td>1</td>\n",
       "      <td>-1</td>\n",
       "      <td>0</td>\n",
       "      <td>unknown</td>\n",
       "      <td>0</td>\n",
       "    </tr>\n",
       "    <tr>\n",
       "      <th>4</th>\n",
       "      <td>33</td>\n",
       "      <td>unknown</td>\n",
       "      <td>single</td>\n",
       "      <td>unknown</td>\n",
       "      <td>1</td>\n",
       "      <td>no</td>\n",
       "      <td>unknown</td>\n",
       "      <td>5</td>\n",
       "      <td>may</td>\n",
       "      <td>198</td>\n",
       "      <td>1</td>\n",
       "      <td>-1</td>\n",
       "      <td>0</td>\n",
       "      <td>unknown</td>\n",
       "      <td>0</td>\n",
       "    </tr>\n",
       "  </tbody>\n",
       "</table>\n",
       "</div>"
      ],
      "text/plain": [
       "   age           job  marital  education  balance housing  contact  day month  \\\n",
       "0   58    management  married   tertiary     2143     yes  unknown    5   may   \n",
       "1   44    technician   single  secondary       29     yes  unknown    5   may   \n",
       "2   33  entrepreneur  married  secondary        2     yes  unknown    5   may   \n",
       "3   47   blue-collar  married    unknown     1506     yes  unknown    5   may   \n",
       "4   33       unknown   single    unknown        1      no  unknown    5   may   \n",
       "\n",
       "   duration  campaign  pdays  previous poutcome  churn  \n",
       "0       261         1     -1         0  unknown      0  \n",
       "1       151         1     -1         0  unknown      0  \n",
       "2        76         1     -1         0  unknown      0  \n",
       "3        92         1     -1         0  unknown      0  \n",
       "4       198         1     -1         0  unknown      0  "
      ]
     },
     "execution_count": 10,
     "metadata": {},
     "output_type": "execute_result"
    }
   ],
   "source": [
    "df.head()"
   ]
  },
  {
   "cell_type": "code",
   "execution_count": 11,
   "id": "aeea2efc-113b-4ac4-849e-d613d44b26ca",
   "metadata": {},
   "outputs": [],
   "source": [
    "from sklearn.model_selection import train_test_split\n",
    "from sklearn.metrics import mutual_info_score\n",
    "from sklearn.metrics import accuracy_score\n",
    "from sklearn.linear_model import LogisticRegression\n",
    "from sklearn.feature_extraction import DictVectorizer"
   ]
  },
  {
   "cell_type": "code",
   "execution_count": 12,
   "id": "50320ee3-11dc-4f38-b6f5-c6f61aa7dd77",
   "metadata": {},
   "outputs": [],
   "source": [
    "def split_data(df, random_state, test_size, val_size):\n",
    "    df = df.copy()\n",
    "    df_temp, df_test = train_test_split(df, test_size = test_size, random_state = random_state)\n",
    "    df_train, df_val = train_test_split(df_temp, test_size = val_size, random_state = random_state)\n",
    "\n",
    "    y_train = df_train.churn.values\n",
    "    y_val = df_val.churn.values\n",
    "    y_test = df_test.churn.values\n",
    "\n",
    "    df_train = df_train.drop(columns=\"churn\").reset_index(drop=True)\n",
    "    df_test = df_test.drop(columns=\"churn\").reset_index(drop=True)\n",
    "    df_val = df_val.drop(columns=\"churn\").reset_index(drop=True)\n",
    "\n",
    "    return df_train, df_val, df_test, y_train, y_val, y_test\n",
    "\n",
    "df_train, df_val, df_test, y_train, y_val, y_test = split_data(df, 42, 0.2, 0.25)\n"
   ]
  },
  {
   "cell_type": "markdown",
   "id": "0e388437-5bf0-4728-ba6b-544ed750ccc1",
   "metadata": {},
   "source": [
    "### Question 3\n",
    "\n",
    "* Calculate the mutual information score between `y` and other categorical variables in the dataset. Use the training set only.\n",
    "* Round the scores to 2 decimals using `round(score, 2)`.\n",
    "\n",
    "Which of these variables has the biggest mutual information score?\n",
    "  \n",
    "- `contact`\n",
    "- `education`\n",
    "- `housing`\n",
    "- **`poutcome`**"
   ]
  },
  {
   "cell_type": "code",
   "execution_count": 13,
   "id": "f0bcf8ba-238b-48f0-ae44-00081c394584",
   "metadata": {},
   "outputs": [
    {
     "name": "stdout",
     "output_type": "stream",
     "text": [
      "Mutual Information Score of contact is 0.01\n",
      "Mutual Information Score of education is 0.0\n",
      "Mutual Information Score of housing is 0.01\n",
      "Mutual Information Score of poutcome is 0.03\n"
     ]
    }
   ],
   "source": [
    "for col in ['contact', 'education', 'housing', 'poutcome']:\n",
    "    score = mutual_info_score(y_train, df_train[col])\n",
    "    print(f\"Mutual Information Score of {col} is {round(score,2)}\")"
   ]
  },
  {
   "cell_type": "markdown",
   "id": "d4e91a2f-ddc2-4814-9f55-cb5e85927a8c",
   "metadata": {},
   "source": [
    "### Question 4\n",
    "\n",
    "* Now let's train a logistic regression.\n",
    "* Remember that we have several categorical variables in the dataset. Include them using one-hot encoding.\n",
    "* Fit the model on the training dataset.\n",
    "    - To make sure the results are reproducible across different versions of Scikit-Learn, fit the model with these parameters:\n",
    "    - `model = LogisticRegression(solver='liblinear', C=1.0, max_iter=1000, random_state=42)`\n",
    "* Calculate the accuracy on the validation dataset and round it to 2 decimal digits.\n",
    "\n",
    "What accuracy did you get?\n",
    "\n",
    "- 0.6\n",
    "- 0.7\n",
    "- 0.8\n",
    "- **0.9**"
   ]
  },
  {
   "cell_type": "code",
   "execution_count": 14,
   "id": "1e8003d1-fb0d-4f57-bdc4-b704abc350c3",
   "metadata": {},
   "outputs": [
    {
     "name": "stdout",
     "output_type": "stream",
     "text": [
      "0.9\n"
     ]
    }
   ],
   "source": [
    "categorical_features = df.select_dtypes(include = 'object').columns.tolist()\n",
    "\n",
    "## do on-hot encoding\n",
    "df_train_coding = df_train.to_dict(orient = 'records')\n",
    "df_val_coding  = df_val.to_dict(orient = 'records')\n",
    "\n",
    "dv = DictVectorizer(sparse = False)\n",
    "dv.fit(df_train_coding)\n",
    "\n",
    "X_train = dv.transform(df_train_coding)\n",
    "X_val = dv.transform(df_val_coding)\n",
    "\n",
    "model = LogisticRegression(solver='liblinear', C=1.0, max_iter=1000, random_state=42)\n",
    "model.fit(X_train, y_train)\n",
    "\n",
    "y_pred_val = model.predict(X_val)\n",
    "\n",
    "accuracy = accuracy_score(y_val, y_pred_val)\n",
    "\n",
    "print(round(accuracy,2))"
   ]
  },
  {
   "cell_type": "markdown",
   "id": "a438a44e-2a49-4bf8-9def-9d0f5056ca2d",
   "metadata": {},
   "source": [
    "### Question 5 \n",
    "\n",
    "* Let's find the least useful feature using the *feature elimination* technique.\n",
    "* Train a model using the same features and parameters as in Q4 (without rounding).\n",
    "* Now exclude each feature from this set and train a model without it. Record the accuracy for each model.\n",
    "* For each feature, calculate the difference between the original accuracy and the accuracy without the feature. \n",
    "\n",
    "Which of following feature has the smallest difference?\n",
    "\n",
    "- `age`\n",
    "- `balance`\n",
    "- `marital`\n",
    "- **`previous`**\n",
    "\n",
    "> **Note**: The difference doesn't have to be positive."
   ]
  },
  {
   "cell_type": "code",
   "execution_count": 15,
   "id": "961fe1f1-a010-4bba-bb0f-f4869dd9d00b",
   "metadata": {},
   "outputs": [
    {
     "name": "stdout",
     "output_type": "stream",
     "text": [
      "The difference of age is -0.00022119000221187957\n",
      "The difference of balance is -0.00022119000221187957\n",
      "The difference of marital is 0.00022119000221187957\n",
      "The difference of previous is -0.0005529750055297544\n"
     ]
    }
   ],
   "source": [
    "elimination_features  = ['age', 'balance', 'marital', 'previous']\n",
    "accuracy_differences = {}\n",
    "\n",
    "for column in elimination_features:\n",
    "    df_train_coding = df_train.drop(column, axis=1)\n",
    "    df_val_coding = df_val.drop(column, axis=1)\n",
    "    \n",
    "    df_train_coding = df_train_coding.to_dict(orient = 'records')\n",
    "    df_val_coding  = df_val_coding.to_dict(orient = 'records')\n",
    "\n",
    "    dv = DictVectorizer(sparse = False)\n",
    "    dv.fit(df_train_coding)\n",
    "\n",
    "    X_train = dv.transform(df_train_coding)\n",
    "    X_val = dv.transform(df_val_coding)\n",
    "\n",
    "    model = LogisticRegression(solver='liblinear', C=1.0, max_iter=1000, random_state=42)\n",
    "    model.fit(X_train, y_train)\n",
    "\n",
    "    y_pred_val = model.predict(X_val)\n",
    "\n",
    "    new_accuracy = accuracy_score(y_val, y_pred_val)\n",
    "    difference = accuracy - new_accuracy\n",
    "    accuracy_differences[column] = difference\n",
    "    print(f\"The difference of {column} is {difference}\")"
   ]
  },
  {
   "cell_type": "code",
   "execution_count": 16,
   "id": "07d7f5ea-7732-4eaa-847d-a848ed9c2df2",
   "metadata": {},
   "outputs": [
    {
     "data": {
      "text/plain": [
       "('previous', -0.0005529750055297544)"
      ]
     },
     "execution_count": 16,
     "metadata": {},
     "output_type": "execute_result"
    }
   ],
   "source": [
    "min(accuracy_differences.items(), key=lambda item: item[1])"
   ]
  },
  {
   "cell_type": "markdown",
   "id": "d6f7e946-a677-4cbb-9784-d0735b1d0fe8",
   "metadata": {},
   "source": [
    "### Question 6\n",
    "\n",
    "* Now let's train a regularized logistic regression.\n",
    "* Let's try the following values of the parameter `C`: `[0.01, 0.1, 1, 10, 100]`.\n",
    "* Train models using all the features as in Q4.\n",
    "* Calculate the accuracy on the validation dataset and round it to 3 decimal digits.\n",
    "\n",
    "Which of these `C` leads to the best accuracy on the validation set?\n",
    "\n",
    "- 0.01\n",
    "- **0.1**\n",
    "- 1\n",
    "- 10\n",
    "- 100\n",
    "\n",
    "> **Note**: If there are multiple options, select the smallest `C`."
   ]
  },
  {
   "cell_type": "code",
   "execution_count": 17,
   "id": "dae99cbe-2881-4139-b4da-d58f4dad012d",
   "metadata": {},
   "outputs": [
    {
     "name": "stdout",
     "output_type": "stream",
     "text": [
      "accuracy with parameter C: 0.01 is 0.898\n",
      "accuracy with parameter C: 0.1 is 0.901\n",
      "accuracy with parameter C: 1 is 0.901\n",
      "accuracy with parameter C: 10 is 0.901\n",
      "accuracy with parameter C: 100 is 0.901\n"
     ]
    }
   ],
   "source": [
    "## do on-hot encoding\n",
    "df_train_coding = df_train.to_dict(orient = 'records')\n",
    "df_val_coding  = df_val.to_dict(orient = 'records')\n",
    "\n",
    "dv = DictVectorizer(sparse = False)\n",
    "dv.fit(df_train_coding)\n",
    "\n",
    "X_train = dv.transform(df_train_coding)\n",
    "X_val = dv.transform(df_val_coding)\n",
    "\n",
    "for c in [0.01, 0.1, 1, 10, 100]:\n",
    "    model = LogisticRegression(solver='liblinear', C=c, max_iter=1000, random_state=42)\n",
    "    model.fit(X_train, y_train)\n",
    "\n",
    "    y_pred_val = model.predict(X_val)\n",
    "\n",
    "    accuracy = accuracy_score(y_val, y_pred_val)\n",
    "\n",
    "    print(f\"accuracy with parameter C: {c} is {round(accuracy,3)}\")"
   ]
  },
  {
   "cell_type": "code",
   "execution_count": null,
   "id": "8abd4999-4df6-4de7-9170-bbcf59766d5f",
   "metadata": {},
   "outputs": [],
   "source": []
  }
 ],
 "metadata": {
  "kernelspec": {
   "display_name": "Python 3 (ipykernel)",
   "language": "python",
   "name": "python3"
  },
  "language_info": {
   "codemirror_mode": {
    "name": "ipython",
    "version": 3
   },
   "file_extension": ".py",
   "mimetype": "text/x-python",
   "name": "python",
   "nbconvert_exporter": "python",
   "pygments_lexer": "ipython3",
   "version": "3.11.7"
  }
 },
 "nbformat": 4,
 "nbformat_minor": 5
}
