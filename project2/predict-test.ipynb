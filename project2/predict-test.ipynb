{
 "cells": [
  {
   "cell_type": "code",
   "execution_count": 13,
   "id": "c8217540-2b39-4be2-a1c2-21496609fa96",
   "metadata": {},
   "outputs": [
    {
     "name": "stdout",
     "output_type": "stream",
     "text": [
      "-----------------------------\n",
      "Text: The movie was absolutely amazing, from the plot to the performances!\n",
      "Prediction: positive\n",
      "-----------------------------\n",
      "Text: I don’t understand why everyone loves this game, it’s so glitchy and unplayable, totally a waste of money.\n",
      "Prediction: negative\n",
      "-----------------------------\n",
      "Text: The restaurant was okay, nothing special but not bad either.\n",
      "Prediction: positive\n",
      "-----------------------------\n",
      "Text: Just finished my morning workout, feeling great!\n",
      "Prediction: positive\n",
      "-----------------------------\n",
      "Text: This new phone is amazing, the camera quality is perfect, and it runs so smoothly.\n",
      "Prediction: positive\n",
      "-----------------------------\n",
      "Text: Horrible customer service! They never respond to my emails, and I’m still waiting for a refund.\n",
      "Prediction: negative\n",
      "-----------------------------\n",
      "Text: The movie was alright, just average, neither great nor terrible.\n",
      "Prediction: negative\n",
      "-----------------------------\n",
      "Text: Does anyone else love the smell of fresh rain? It’s so calming!\n",
      "Prediction: positive\n",
      "-----------------------------\n",
      "Text: Great service at the hotel, staff was friendly and welcoming, definitely coming back.\n",
      "Prediction: irrelevant\n",
      "-----------------------------\n",
      "Text: Tried the new burger at this restaurant, and it was undercooked and tasteless. Not coming back.\n",
      "Prediction: negative\n"
     ]
    }
   ],
   "source": [
    "import requests\n",
    "\n",
    "url = \"http://127.0.0.1:9696/predict\"  \n",
    "data = {\n",
    "    \"texts\": [\n",
    "    \"The movie was absolutely amazing, from the plot to the performances!\",\n",
    "    \"I don’t understand why everyone loves this game, it’s so glitchy and unplayable, totally a waste of money.\",\n",
    "    \"The restaurant was okay, nothing special but not bad either.\",\n",
    "    \"Just finished my morning workout, feeling great!\",\n",
    "    \"This new phone is amazing, the camera quality is perfect, and it runs so smoothly.\",\n",
    "    \"Horrible customer service! They never respond to my emails, and I’m still waiting for a refund.\",\n",
    "    \"The movie was alright, just average, neither great nor terrible.\",\n",
    "    \"Does anyone else love the smell of fresh rain? It’s so calming!\",\n",
    "    \"Great service at the hotel, staff was friendly and welcoming, definitely coming back.\",\n",
    "    \"Tried the new burger at this restaurant, and it was undercooked and tasteless. Not coming back.\"\n",
    "  ]\n",
    "\n",
    "}\n",
    "\n",
    "try:\n",
    "    response = requests.post(url, json=data)\n",
    "    if response.status_code == 200:\n",
    "        predictions = response.json().get(\"predictions\", [])\n",
    "        if len(predictions) == len(data[\"texts\"]):\n",
    "            for text, prediction in zip(data[\"texts\"], predictions):\n",
    "                print(\"-----------------------------\")\n",
    "                print(f\"Text: {text}\")\n",
    "                print(f\"Prediction: {prediction}\")\n",
    "        else:\n",
    "            print(\"Error: Predictions do not match the number of texts.\")\n",
    "    else:\n",
    "        print(f\"Error response: {response.text}\")\n",
    "except requests.exceptions.RequestException as e:\n",
    "    print(f\"An error occurred: {e}\")\n"
   ]
  }
 ],
 "metadata": {
  "kaggle": {
   "accelerator": "nvidiaTeslaT4",
   "dataSources": [
    {
     "datasetId": 1520310,
     "sourceId": 2510329,
     "sourceType": "datasetVersion"
    },
    {
     "isSourceIdPinned": true,
     "modelId": 225740,
     "modelInstanceId": 203997,
     "sourceId": 238856,
     "sourceType": "modelInstanceVersion"
    }
   ],
   "dockerImageVersionId": 30840,
   "isGpuEnabled": true,
   "isInternetEnabled": false,
   "language": "python",
   "sourceType": "notebook"
  },
  "kernelspec": {
   "display_name": "Python 3 (ipykernel)",
   "language": "python",
   "name": "python3"
  },
  "language_info": {
   "codemirror_mode": {
    "name": "ipython",
    "version": 3
   },
   "file_extension": ".py",
   "mimetype": "text/x-python",
   "name": "python",
   "nbconvert_exporter": "python",
   "pygments_lexer": "ipython3",
   "version": "3.11.7"
  }
 },
 "nbformat": 4,
 "nbformat_minor": 5
}
